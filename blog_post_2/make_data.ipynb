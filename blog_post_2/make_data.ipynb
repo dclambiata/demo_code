{
 "cells": [
  {
   "cell_type": "markdown",
   "metadata": {},
   "source": [
    "# Data Generation\n",
    "\n",
    "You’ve been tasked by a multinational company to implement a scalable automated application screening process to select potential employees from a large pool of applicants.\n",
    "\n",
    "Here we simulate unit record data for the following features:\n",
    "\n",
    "* years-of-experience - a quantification of suitability for a role, but due to societal reasons, also dependent on gender\n",
    "\n",
    "* is_male - a flag indicating gender.\n",
    "\n",
    "* was_hired - a *proxy* label for whether a candidate is suitable based on historical outcomes.\n",
    "\n",
    "For the data to have realistic and interesting properties in the analysis, we assume that:\n",
    "\n",
    "* suitability and gender are independently random (there is no inherent difference in suitability across genders)\n",
    "\n",
    "* but we don't have access to suitability, only its proxies\n",
    "\n",
    "* experience conflates suitability and gender, representing gender-dependent feature distributions.\n",
    "\n",
    "* the was_hired targets also conflate suitability and gender, representing historical labeling bias.\n",
    "\n",
    "We begin by defining our configuration parameters:\n"
   ]
  },
  {
   "cell_type": "code",
   "execution_count": 1,
   "metadata": {},
   "outputs": [],
   "source": [
    "n = 10000               # number of unit records \n",
    "frac_male = 0.65        # fraction that are male\n",
    "frac_hired = 0.2        # fraction that were hired (historically)\n",
    "seed = 0                # reproducible results "
   ]
  },
  {
   "cell_type": "markdown",
   "metadata": {},
   "source": [
    "And then actually simulate (draw) a particular table of unit records: "
   ]
  },
  {
   "cell_type": "code",
   "execution_count": 2,
   "metadata": {},
   "outputs": [
    {
     "data": {
      "text/html": [
       "<div>\n",
       "<style scoped>\n",
       "    .dataframe tbody tr th:only-of-type {\n",
       "        vertical-align: middle;\n",
       "    }\n",
       "\n",
       "    .dataframe tbody tr th {\n",
       "        vertical-align: top;\n",
       "    }\n",
       "\n",
       "    .dataframe thead th {\n",
       "        text-align: right;\n",
       "    }\n",
       "</style>\n",
       "<table border=\"1\" class=\"dataframe\">\n",
       "  <thead>\n",
       "    <tr style=\"text-align: right;\">\n",
       "      <th></th>\n",
       "      <th>Experience</th>\n",
       "      <th>Gender</th>\n",
       "      <th>Hired</th>\n",
       "    </tr>\n",
       "  </thead>\n",
       "  <tbody>\n",
       "    <tr>\n",
       "      <th>898</th>\n",
       "      <td>14</td>\n",
       "      <td>Male</td>\n",
       "      <td>No</td>\n",
       "    </tr>\n",
       "    <tr>\n",
       "      <th>2343</th>\n",
       "      <td>6</td>\n",
       "      <td>Male</td>\n",
       "      <td>No</td>\n",
       "    </tr>\n",
       "    <tr>\n",
       "      <th>2398</th>\n",
       "      <td>16</td>\n",
       "      <td>Female</td>\n",
       "      <td>Yes</td>\n",
       "    </tr>\n",
       "    <tr>\n",
       "      <th>5906</th>\n",
       "      <td>16</td>\n",
       "      <td>Male</td>\n",
       "      <td>Yes</td>\n",
       "    </tr>\n",
       "    <tr>\n",
       "      <th>9394</th>\n",
       "      <td>15</td>\n",
       "      <td>Male</td>\n",
       "      <td>No</td>\n",
       "    </tr>\n",
       "  </tbody>\n",
       "</table>\n",
       "</div>"
      ],
      "text/plain": [
       "      Experience  Gender Hired\n",
       "898           14    Male    No\n",
       "2343           6    Male    No\n",
       "2398          16  Female   Yes\n",
       "5906          16    Male   Yes\n",
       "9394          15    Male    No"
      ]
     },
     "metadata": {},
     "output_type": "display_data"
    }
   ],
   "source": [
    "# Simulate unit record data\n",
    "import numpy as np\n",
    "from scipy.stats import norm\n",
    "import pandas as pd\n",
    "np.random.seed(seed)\n",
    "show_rows = np.sort(np.random.permutation(n)[:5].astype(int))\n",
    "\n",
    "# Gender is male with probability frac_male \n",
    "is_male = np.random.rand(n) < frac_male\n",
    "\n",
    "# The latent suitability is independently random\n",
    "_suitability = np.random.rand(n)\n",
    "\n",
    "# Experience encodes a weighted combination of gender,\n",
    "# suitability, and noise, seen through a non-linear transform:\n",
    "# These weights control the degree of conflation.\n",
    "_exp = .6 * is_male + 2. * _suitability + .5 * np.random.randn(n)\n",
    "_exp = (_exp - _exp.mean()) / _exp.std()  # Normalise\n",
    "experience = 20. * norm.cdf(0.5*_exp)  # Transform\n",
    "\n",
    "# The label is an equivalent transformed, weighted combination.\n",
    "# This time we give a smaller weight to gender, and the transform\n",
    "# is a thresholding that takes the highest frac_suitable\n",
    "_label = 0.05 * is_male + 1. * _suitability + 0.1 * np.random.randn(n) \n",
    "threshold = np.sort(_label)[int(n * (1 - frac_hired))]\n",
    "label = _label >= threshold  # Selection\n",
    "\n",
    "# Pack the data into a tabular format:\n",
    "data = pd.DataFrame()\n",
    "data['Experience'] = np.round(experience,0).astype(int)\n",
    "data['Gender'] = np.array(['Female', 'Male'])[is_male.astype(int)]\n",
    "data[\"Hired\"] = np.array(['No', 'Yes'])[label.astype(int)]\n",
    "\n",
    "# Display a preview of the data:\n",
    "display(data.loc[show_rows])\n",
    "\n",
    "# Save the full data to disk:\n",
    "data.to_csv(\"unit_records.csv\", index=False)"
   ]
  },
  {
   "cell_type": "markdown",
   "metadata": {},
   "source": [
    "Before we run the scenario, lets verify the base rates in the generated data:"
   ]
  },
  {
   "cell_type": "code",
   "execution_count": 3,
   "metadata": {},
   "outputs": [
    {
     "name": "stdout",
     "output_type": "stream",
     "text": [
      "Male base rate:    22 %\n",
      "Female base rate:  17 %\n",
      "Overall base rate: 20 %\n"
     ]
    }
   ],
   "source": [
    "print(\"Male base rate:   \", int(100*label[is_male].mean() + 0.5), \"%\")\n",
    "print(\"Female base rate: \", int(100*label[~is_male].mean() + 0.5), \"%\")\n",
    "print(\"Overall base rate:\", int(100*label.mean() + 0.5), \"%\")"
   ]
  },
  {
   "cell_type": "markdown",
   "metadata": {},
   "source": [
    "These base rates indicate a subtle labeling bias (21% of males have been historically selected vs 18% of females)."
   ]
  }
 ],
 "metadata": {
  "kernelspec": {
   "display_name": "Python 3",
   "language": "python",
   "name": "python3"
  },
  "language_info": {
   "codemirror_mode": {
    "name": "ipython",
    "version": 3
   },
   "file_extension": ".py",
   "mimetype": "text/x-python",
   "name": "python",
   "nbconvert_exporter": "python",
   "pygments_lexer": "ipython3",
   "version": "3.6.6"
  }
 },
 "nbformat": 4,
 "nbformat_minor": 2
}
